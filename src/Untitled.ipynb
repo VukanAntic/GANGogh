{
 "cells": [
  {
   "cell_type": "code",
   "execution_count": 6,
   "id": "1732dc70",
   "metadata": {},
   "outputs": [],
   "source": [
    "import os\n",
    "import tensorflow as tf\n",
    "import numpy as np\n",
    "from numpy import asarray\n",
    "from numpy import vstack\n",
    "from keras.preprocessing.image import img_to_array\n",
    "from keras.preprocessing.image import load_img\n",
    "from numpy import savez_compressed"
   ]
  },
  {
   "cell_type": "code",
   "execution_count": 7,
   "id": "29c28a2e",
   "metadata": {},
   "outputs": [],
   "source": [
    "def load_images(path):\n",
    "    \n",
    "    images = []\n",
    "    \n",
    "    for root, dirs, files in os.walk(path):\n",
    "        \n",
    "        for filename in files:\n",
    "            path_to_file = os.sep.join([root, filename])\n",
    "            \n",
    "            if path_to_file.endswith((\".jpg\", \"jpeg\", \".png\")):\n",
    "                # then its an image => need to process it\n",
    "                \n",
    "                image = load_img(path_to_file, target_size = (256, 256))\n",
    "                input_arr = img_to_array(image)\n",
    "                input_arr = np.array([input_arr])\n",
    "                \n",
    "                images.append(input_arr)\n",
    "                \n",
    "    return np.array(images)\n",
    " "
   ]
  },
  {
   "cell_type": "code",
   "execution_count": 8,
   "id": "c14db052",
   "metadata": {},
   "outputs": [],
   "source": [
    "PATH_TO_VAN_GOGH = '../VincentVanGogh'\n",
    "PATH_TO_PHOTOS = '../photo_jpg'"
   ]
  },
  {
   "cell_type": "code",
   "execution_count": 9,
   "id": "e8354167",
   "metadata": {},
   "outputs": [
    {
     "name": "stdout",
     "output_type": "stream",
     "text": [
      "(2025, 1, 256, 256, 3)\n"
     ]
    }
   ],
   "source": [
    "van_gogh_data = load_images(PATH_TO_VAN_GOGH)\n",
    "#photos_data = load_images(PATH_TO_PHOTOS)\n",
    "print(van_gogh_data.shape)\n",
    "#print(photos_data.shape)"
   ]
  },
  {
   "cell_type": "code",
   "execution_count": null,
   "id": "6209dd16",
   "metadata": {},
   "outputs": [],
   "source": []
  }
 ],
 "metadata": {
  "kernelspec": {
   "display_name": "Python 3 (ipykernel)",
   "language": "python",
   "name": "python3"
  },
  "language_info": {
   "codemirror_mode": {
    "name": "ipython",
    "version": 3
   },
   "file_extension": ".py",
   "mimetype": "text/x-python",
   "name": "python",
   "nbconvert_exporter": "python",
   "pygments_lexer": "ipython3",
   "version": "3.8.10"
  }
 },
 "nbformat": 4,
 "nbformat_minor": 5
}
