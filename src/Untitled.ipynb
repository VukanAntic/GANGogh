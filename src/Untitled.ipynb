{
  "cells": [
    {
      "cell_type": "code",
      "execution_count": 1,
      "id": "1732dc70",
      "metadata": {
        "colab": {
          "base_uri": "https://localhost:8080/"
        },
        "id": "1732dc70",
        "outputId": "0999782e-2a1f-4ad2-8786-0c0dd3e66843"
      },
      "outputs": [
        {
          "output_type": "stream",
          "name": "stdout",
          "text": [
            "Mounted at /content/drive\n"
          ]
        }
      ],
      "source": [
        "from google.colab import drive\n",
        "drive.mount('/content/drive')"
      ]
    },
    {
      "cell_type": "code",
      "source": [
        "import os\n",
        "os.environ['KAGGLE_CONFIG_DIR'] = \"/content/drive/MyDrive/GANGogh/Kaggle\""
      ],
      "metadata": {
        "id": "KfeZowuesp5N"
      },
      "id": "KfeZowuesp5N",
      "execution_count": 5,
      "outputs": []
    },
    {
      "cell_type": "code",
      "source": [
        "%cd /content/drive/MyDrive/GANGogh/Kaggle/"
      ],
      "metadata": {
        "colab": {
          "base_uri": "https://localhost:8080/"
        },
        "id": "bXnQ9fPTsyn1",
        "outputId": "27b159f9-8e00-47c5-a00a-eac15331b87f"
      },
      "id": "bXnQ9fPTsyn1",
      "execution_count": 6,
      "outputs": [
        {
          "output_type": "stream",
          "name": "stdout",
          "text": [
            "/content/drive/MyDrive/GANGogh/Kaggle\n"
          ]
        }
      ]
    },
    {
      "cell_type": "code",
      "source": [
        "# !kaggle datasets download -d ipythonx/van-gogh-paintings --unzip"
      ],
      "metadata": {
        "colab": {
          "base_uri": "https://localhost:8080/"
        },
        "id": "xVf2YXaltF_l",
        "outputId": "af034db1-eb03-4245-beec-ded45fe76a8d"
      },
      "id": "xVf2YXaltF_l",
      "execution_count": 4,
      "outputs": [
        {
          "output_type": "stream",
          "name": "stdout",
          "text": [
            "Downloading van-gogh-paintings.zip to /content/drive/MyDrive/GANGogh/Kaggle\n",
            " 13% 64.0M/485M [00:00<00:05, 79.5MB/s]\n",
            "User cancelled operation\n"
          ]
        }
      ]
    },
    {
      "cell_type": "code",
      "source": [
        "# !kaggle competitions download -c gan-getting-started "
      ],
      "metadata": {
        "colab": {
          "base_uri": "https://localhost:8080/"
        },
        "id": "Mn390Mp0tQik",
        "outputId": "84d5d327-bfe8-4c42-a681-d825a5f58319"
      },
      "id": "Mn390Mp0tQik",
      "execution_count": 5,
      "outputs": [
        {
          "output_type": "stream",
          "name": "stdout",
          "text": [
            "User cancelled operation\n"
          ]
        }
      ]
    },
    {
      "cell_type": "code",
      "source": [
        "# import zipfile\n",
        "# for file in os.listdir():\n",
        "#     if file.endswith(\".zip\"):\n",
        "#         with zipfile.ZipFile(file, \"r\") as zip_file:\n",
        "#             zip_file.extractall()\n",
        "#         os.remove(file)"
      ],
      "metadata": {
        "id": "_gsUisBKv222"
      },
      "id": "_gsUisBKv222",
      "execution_count": 11,
      "outputs": []
    },
    {
      "cell_type": "code",
      "source": [
        "import tensorflow as tf\n",
        "import numpy as np\n",
        "from numpy import asarray\n",
        "from numpy import vstack\n",
        "from keras.preprocessing.image import img_to_array\n",
        "from keras.preprocessing.image import load_img\n",
        "from numpy import savez_compressed"
      ],
      "metadata": {
        "id": "PP6KdRFVsYxr"
      },
      "id": "PP6KdRFVsYxr",
      "execution_count": 7,
      "outputs": []
    },
    {
      "cell_type": "code",
      "execution_count": 8,
      "id": "29c28a2e",
      "metadata": {
        "id": "29c28a2e"
      },
      "outputs": [],
      "source": [
        "def load_images(path):\n",
        "    \n",
        "    images = []\n",
        "    \n",
        "    for root, dirs, files in os.walk(path):\n",
        "        \n",
        "        for filename in files:\n",
        "            path_to_file = os.sep.join([root, filename])\n",
        "            \n",
        "            if path_to_file.endswith((\".jpg\", \"jpeg\", \".png\")):\n",
        "                # then its an image => need to process it\n",
        "                \n",
        "                image = load_img(path_to_file, target_size = (256, 256))\n",
        "                input_arr = img_to_array(image)\n",
        "                input_arr = np.array([input_arr])\n",
        "                \n",
        "                images.append(input_arr)\n",
        "                \n",
        "    return np.array(images)\n",
        " "
      ]
    },
    {
      "cell_type": "code",
      "execution_count": 9,
      "id": "c14db052",
      "metadata": {
        "id": "c14db052"
      },
      "outputs": [],
      "source": [
        "PATH_TO_VAN_GOGH = './VincentVanGogh'\n",
        "PATH_TO_PHOTOS = './photo_jpg'"
      ]
    },
    {
      "cell_type": "code",
      "execution_count": 10,
      "id": "e8354167",
      "metadata": {
        "colab": {
          "base_uri": "https://localhost:8080/"
        },
        "id": "e8354167",
        "outputId": "a426aa2a-c744-4cdb-ec21-b74553ee5d28"
      },
      "outputs": [
        {
          "output_type": "stream",
          "name": "stdout",
          "text": [
            "Van Gogh data:\n",
            "(2025, 1, 256, 256, 3)\n",
            "Photo data:\n",
            "(2363, 1, 256, 256, 3)\n"
          ]
        }
      ],
      "source": [
        "van_gogh_data = load_images(PATH_TO_VAN_GOGH)\n",
        "photos_data = load_images(PATH_TO_PHOTOS)\n",
        "print(\"Van Gogh data:\")\n",
        "print(van_gogh_data.shape)\n",
        "print(\"Photo data:\")\n",
        "print(photos_data.shape)"
      ]
    },
    {
      "cell_type": "code",
      "source": [],
      "metadata": {
        "id": "o8T87QxTyipt"
      },
      "id": "o8T87QxTyipt",
      "execution_count": null,
      "outputs": []
    }
  ],
  "metadata": {
    "kernelspec": {
      "display_name": "Python 3 (ipykernel)",
      "language": "python",
      "name": "python3"
    },
    "language_info": {
      "codemirror_mode": {
        "name": "ipython",
        "version": 3
      },
      "file_extension": ".py",
      "mimetype": "text/x-python",
      "name": "python",
      "nbconvert_exporter": "python",
      "pygments_lexer": "ipython3",
      "version": "3.8.10"
    },
    "colab": {
      "provenance": []
    },
    "accelerator": "GPU"
  },
  "nbformat": 4,
  "nbformat_minor": 5
}